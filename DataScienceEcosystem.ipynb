{
 "cells": [
  {
   "cell_type": "markdown",
   "id": "7e19f614-8e0a-4c20-945f-c923d51bfba5",
   "metadata": {},
   "source": [
    "# Data Science Tools and Ecosystem"
   ]
  },
  {
   "cell_type": "markdown",
   "id": "3135854f-9a5f-4f53-b7fe-a53a74aaa76d",
   "metadata": {},
   "source": []
  },
  {
   "cell_type": "markdown",
   "id": "65ba0446-70e3-4b16-9667-61045e6bf204",
   "metadata": {},
   "source": [
    "En este cuaderno, se resumen las herramientas y ecosistemas de ciencia de datos."
   ]
  },
  {
   "cell_type": "markdown",
   "id": "1f0ad579-41a4-457d-b827-6d65af813f0e",
   "metadata": {},
   "source": [
    "Algunos de los lenguajes populares que utilizan los científicos de datos son:\n",
    "1. Python  \n",
    "2. R  \n",
    "3. SQL  \n",
    "4. Julia (opcional)  \n"
   ]
  },
  {
   "cell_type": "markdown",
   "id": "bec137fe-29d1-4760-9fc4-07aedcbc842b",
   "metadata": {},
   "source": [
    "Algunas de las bibliotecas comúnmente utilizadas por los científicos de datos incluyen:\n",
    "1. Pandas  \n",
    "2. NumPy  \n",
    "3. Matplotlib  \n",
    "4. Scikit-learn (opcional)  "
   ]
  },
  {
   "cell_type": "markdown",
   "id": "793fc3b7-0957-4aed-8b94-709dd1e35272",
   "metadata": {},
   "source": [
    "| Herramientas de Ciencia de Datos |\n",
    "|----------------------------------|\n",
    "| Jupyter Notebook                 |\n",
    "| RStudio                          |\n",
    "| Apache Zeppelin                  |"
   ]
  },
  {
   "cell_type": "markdown",
   "id": "f8288adf-b9fa-447e-a3a3-a28412ddb5ef",
   "metadata": {},
   "source": [
    "### A continuación, se presentan algunos ejemplos de evaluación de expresiones aritméticas en Python."
   ]
  },
  {
   "cell_type": "code",
   "execution_count": 3,
   "id": "31178801-0618-43fa-8495-f2ba2e33556a",
   "metadata": {},
   "outputs": [
    {
     "data": {
      "text/plain": [
       "17"
      ]
     },
     "execution_count": 3,
     "metadata": {},
     "output_type": "execute_result"
    }
   ],
   "source": [
    "# Esta es una expresión aritmética simple para multiplicar y luego sumar enteros\n",
    "(3 * 4) + 5"
   ]
  },
  {
   "cell_type": "code",
   "execution_count": 4,
   "id": "104b57a1-a09c-4791-b918-070aec590646",
   "metadata": {},
   "outputs": [
    {
     "data": {
      "text/plain": [
       "3.3333333333333335"
      ]
     },
     "execution_count": 4,
     "metadata": {},
     "output_type": "execute_result"
    }
   ],
   "source": [
    "# Esto convertirá 200 minutos a horas dividiendo por 60\n",
    "200 / 60"
   ]
  },
  {
   "cell_type": "markdown",
   "id": "efa77720-7bf8-4a53-b4d6-eb6b5fe20c66",
   "metadata": {},
   "source": [
    "**Objetivos:**\n",
    "- Listar lenguajes populares para Ciencia de Datos\n",
    "- Enumerar bibliotecas populares para Ciencia de Datos\n",
    "- Crear y ejecutar expresiones aritméticas simples\n",
    "- Crear tablas usando Markdown\n",
    "- Compartir notebooks en GitHub"
   ]
  },
  {
   "cell_type": "markdown",
   "id": "5d3f7ea4-3b35-4416-8d21-8589ff3df6a1",
   "metadata": {},
   "source": [
    "## Autor\n",
    "Isaac Castela Vega"
   ]
  },
  {
   "cell_type": "code",
   "execution_count": null,
   "id": "b24d798b-9a33-42b7-af3f-21d0f5e5c8cc",
   "metadata": {},
   "outputs": [],
   "source": []
  }
 ],
 "metadata": {
  "kernelspec": {
   "display_name": "Python [conda env:ICV_ENV]",
   "language": "python",
   "name": "conda-env-ICV_ENV-py"
  },
  "language_info": {
   "codemirror_mode": {
    "name": "ipython",
    "version": 3
   },
   "file_extension": ".py",
   "mimetype": "text/x-python",
   "name": "python",
   "nbconvert_exporter": "python",
   "pygments_lexer": "ipython3",
   "version": "3.12.11"
  }
 },
 "nbformat": 4,
 "nbformat_minor": 5
}
