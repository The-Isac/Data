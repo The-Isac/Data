{
  "nbformat": 4,
  "nbformat_minor": 0,
  "metadata": {
    "colab": {
      "provenance": [],
      "authorship_tag": "ABX9TyObDKDLG+wEO1//oB7gpB6B",
      "include_colab_link": true
    },
    "kernelspec": {
      "name": "python3",
      "display_name": "Python 3"
    },
    "language_info": {
      "name": "python"
    }
  },
  "cells": [
    {
      "cell_type": "markdown",
      "metadata": {
        "id": "view-in-github",
        "colab_type": "text"
      },
      "source": [
        "<a href=\"https://colab.research.google.com/github/The-Isac/Data/blob/main/Desafio_Estructuras_Condicionales.ipynb\" target=\"_parent\"><img src=\"https://colab.research.google.com/assets/colab-badge.svg\" alt=\"Open In Colab\"/></a>"
      ]
    },
    {
      "cell_type": "markdown",
      "source": [
        "# Desafios del curso de Alura la Fundamentos de Python y Datos G9 - ONE\n",
        "\n",
        "Vamos practicar el uso de estructuras condicionales como el if, else y elif a través de algunas actividades. Ahora que estamos avanzando en los contenidos, podemos hacer los desafíos más interesantes: ¡trabajaremos en proyectos de código! Resuelve los problemas iniciales para prepararte para los proyectos:"
      ],
      "metadata": {
        "id": "27mER6lAQI65"
      }
    },
    {
      "cell_type": "markdown",
      "source": [
        "##**Entrenando la programación**\n"
      ],
      "metadata": {
        "id": "D9wDCsDIQk2Z"
      }
    },
    {
      "cell_type": "markdown",
      "source": [
        "1 - Escribe un programa que pida a la persona usuaria que proporcione dos números y muestre el número más grande.\n",
        "\n"
      ],
      "metadata": {
        "id": "zmhkUGZOQk5U"
      }
    },
    {
      "cell_type": "code",
      "source": [
        "Num1 = float(input(\"Ingresa el primer número: \"))\n",
        "Num2 = float(input(\"Ingresa el segundo número:\"))\n",
        "\n",
        "if Num1 > Num2:\n",
        "  print(f\"El numero mayor es: {Num1}\")\n",
        "elif Num2 > Num1:\n",
        "  print(f\"El numero mayor es: {Num2}\")\n",
        "else:\n",
        "  print(\"Los numeros son iguales\")"
      ],
      "metadata": {
        "colab": {
          "base_uri": "https://localhost:8080/"
        },
        "id": "MAOI-L88SOu9",
        "outputId": "b58d9456-5f99-426b-fc2d-0d02d55a0576"
      },
      "execution_count": null,
      "outputs": [
        {
          "output_type": "stream",
          "name": "stdout",
          "text": [
            "Ingresa el primer número: 1\n",
            "Ingresa el segundo número:1\n",
            "Los numeros son iguales\n"
          ]
        }
      ]
    },
    {
      "cell_type": "markdown",
      "source": [
        "2 - Escribe un programa que solicite el porcentaje de crecimiento de producción de una empresa e informe si hubo un crecimiento (porcentaje positivo) o una disminución (porcentaje negativo).\n",
        "\n"
      ],
      "metadata": {
        "id": "xwJ54gmlQk7s"
      }
    },
    {
      "cell_type": "code",
      "source": [
        "Porcent = float(input(\"Ingresa el porcentaje de crecimiento de la producción: \"))\n",
        "\n",
        "if Porcent > 0:\n",
        "  print('Hubo un crecimiento en la produccion de', Porcent, '%')\n",
        "elif Porcent < 0:\n",
        "  print('Hubo una disminución en la produccion de', Porcent, '%')\n",
        "else:\n",
        "  print('No hubo cambios en la produccion')"
      ],
      "metadata": {
        "colab": {
          "base_uri": "https://localhost:8080/"
        },
        "id": "7zacBrkYyxtE",
        "outputId": "25c54853-0df5-435a-edf7-84edcdbd2329"
      },
      "execution_count": null,
      "outputs": [
        {
          "output_type": "stream",
          "name": "stdout",
          "text": [
            "Ingresa el porcentaje de crecimiento de la producción: 43\n",
            "Hubo un crecimiento en la produccion de 43.0 %\n"
          ]
        }
      ]
    },
    {
      "cell_type": "markdown",
      "source": [
        "3 - Escribe un programa que determine si una letra proporcionada por la persona usuaria es una vocal o una consonante.\n",
        "\n"
      ],
      "metadata": {
        "id": "ikhl3ZbrQk-f"
      }
    },
    {
      "cell_type": "code",
      "source": [
        "Con_voc = input(\"Ingresa una letra: \")\n",
        "\n",
        "if Con_voc == 'a' or Con_voc == 'e' or Con_voc == 'i' or Con_voc == 'o' or Con_voc == 'u':\n",
        "  print('Es una vocal')\n",
        "else :\n",
        "  print('Es una consonante')\n",
        "\n",
        "\"\"\"\n",
        "Otra menera de hacerlo es\n",
        "Con_voc = input(\"Ingresa una letra: \")\n",
        "\n",
        "# Verifica si la letra está dentro de la cadena de vocales\n",
        "if Con_voc.lower() in 'aeiou': # Agrego .lower() para manejar mayúsculas también\n",
        "  print('Es una vocal')\n",
        "else :\n",
        "  print('Es una consonante')\n",
        "\n",
        "\n",
        "\"\"\""
      ],
      "metadata": {
        "colab": {
          "base_uri": "https://localhost:8080/",
          "height": 87
        },
        "id": "HAvtPau_0WiO",
        "outputId": "0c021b19-142d-477a-e054-9842590dc5a0"
      },
      "execution_count": null,
      "outputs": [
        {
          "output_type": "stream",
          "name": "stdout",
          "text": [
            "Ingresa una letra: r\n",
            "Es una consonante\n"
          ]
        },
        {
          "output_type": "execute_result",
          "data": {
            "text/plain": [
              "'\\nOtra menera de hacerlo es\\nCon_voc = input(\"Ingresa una letra: \")\\n\\n# Verifica si la letra está dentro de la cadena de vocales\\nif Con_voc.lower() in \\'aeiou\\': # Agrego .lower() para manejar mayúsculas también\\n  print(\\'Es una vocal\\')\\nelse :\\n  print(\\'Es una consonante\\')\\n\\n\\n'"
            ],
            "application/vnd.google.colaboratory.intrinsic+json": {
              "type": "string"
            }
          },
          "metadata": {},
          "execution_count": 5
        }
      ]
    },
    {
      "cell_type": "markdown",
      "source": [
        "4 - Escribe un programa que lea valores promedio de precios de un modelo de automóvil durante 3 años consecutivos y muestre el valor más alto y más bajo entre esos tres años.\n",
        "\n"
      ],
      "metadata": {
        "id": "BB06Zid1QlCf"
      }
    },
    {
      "cell_type": "code",
      "source": [
        "precio1 = float(input(\"Ingresa el precio del primer año: \"))\n",
        "precio2 = float(input(\"Ingresa el precio del segundo año: \"))\n",
        "precio3 = float(input(\"Ingresa el precio del tercer año: \"))\n",
        "\n",
        "mayor = max(precio1, precio2, precio3)\n",
        "menor = min(precio1, precio2, precio3)\n",
        "\n",
        "print(f\"El valor más alto es: {mayor}\")\n",
        "print(f\"El valor más bajo es: {menor}\")"
      ],
      "metadata": {
        "colab": {
          "base_uri": "https://localhost:8080/"
        },
        "id": "BHRVrIRI2AUo",
        "outputId": "e1d69bf2-ef90-4be9-964e-705f455e3044"
      },
      "execution_count": null,
      "outputs": [
        {
          "output_type": "stream",
          "name": "stdout",
          "text": [
            "Ingresa el precio del primer año: 2002\n",
            "Ingresa el precio del segundo año: 2022\n",
            "Ingresa el precio del tercer año: 1998\n",
            "El valor más alto es: 2022.0\n",
            "El valor más bajo es: 1998.0\n"
          ]
        }
      ]
    },
    {
      "cell_type": "markdown",
      "source": [
        "5 - Escribe un programa que pregunte sobre el precio de tres productos e indique cuál es el producto más barato para comprar.\n",
        "\n"
      ],
      "metadata": {
        "id": "wzzOeh4ZQlFH"
      }
    },
    {
      "cell_type": "code",
      "source": [
        "precio1 = float(input(\"Ingresa el precio del primer producto: \"))\n",
        "precio2 = float(input(\"Ingresa el precio del segundo producto: \"))\n",
        "precio3 = float(input(\"Ingresa el precio del tercer producto: \"))\n",
        "\n",
        "menor_precio = min(precio1, precio2, precio3)\n",
        "\n",
        "print(f'El precio mas barrato es {menor_precio}')"
      ],
      "metadata": {
        "colab": {
          "base_uri": "https://localhost:8080/"
        },
        "id": "h_8w76bfN0BF",
        "outputId": "69a64c00-9b23-400b-d837-fdd6017f807f"
      },
      "execution_count": null,
      "outputs": [
        {
          "output_type": "stream",
          "name": "stdout",
          "text": [
            "Ingresa el precio del primer producto: 123\n",
            "Ingresa el precio del segundo producto: 654\n",
            "Ingresa el precio del tercer producto: 234234\n",
            "El precio mas barrato es 123.0\n"
          ]
        }
      ]
    },
    {
      "cell_type": "markdown",
      "source": [
        "6 - Escribe un programa que lea tres números y los muestre en orden descendente.\n",
        "\n",
        "\n",
        "\n"
      ],
      "metadata": {
        "id": "i0_fJLa0QlHo"
      }
    },
    {
      "cell_type": "code",
      "source": [
        "num1 = float(input(\"Ingresa el primer número: \"))\n",
        "num2 = float(input(\"Ingresa el segundo número: \"))\n",
        "num3 = float(input(\"Ingresa el tercer número: \"))\n",
        "\n",
        "numeros = [num1, num2, num3]\n",
        "numeros.sort(reverse=True) # Ordenar en orden descendente\n",
        "\n",
        "print(numeros)"
      ],
      "metadata": {
        "colab": {
          "base_uri": "https://localhost:8080/"
        },
        "id": "Vc2JuWF6OkpB",
        "outputId": "5214b491-be76-459a-caea-d94a1c1e0631"
      },
      "execution_count": null,
      "outputs": [
        {
          "output_type": "stream",
          "name": "stdout",
          "text": [
            "Ingresa el primer número: 34\n",
            "Ingresa el segundo número: 1234\n",
            "Ingresa el tercer número: .0\n",
            "[1234.0, 34.0, 0.0]\n"
          ]
        }
      ]
    },
    {
      "cell_type": "markdown",
      "source": [
        "7 -Escribe un programa que pregunte en qué turno estudia la persona usuaria (\"mañana\", \"tarde\" o \"noche\") y muestre el mensaje \"¡Buenos Días!\", \"¡Buenas Tardes!\", \"¡Buenas Noches!\" o \"Valor Inválido!\", según el caso.\n",
        "\n"
      ],
      "metadata": {
        "id": "xJbyIedEQlKh"
      }
    },
    {
      "cell_type": "code",
      "source": [
        "pregunta = input(\"En que turno estudias? (mañana, tarde o noche): \")\n",
        "pregunta = pregunta.lower() # Convierto a minuscula\n",
        "\n",
        "if pregunta == 'mañana':\n",
        "  print(\"¡Buenos Días!\")\n",
        "elif pregunta == 'tarde':\n",
        "  print(\"¡Buenas Tardes!\")\n",
        "elif pregunta == 'noche':\n",
        "  print(\"¡Buenas Noches!\")\n",
        "else:\n",
        "  print(\"Valor Inválido!\")"
      ],
      "metadata": {
        "colab": {
          "base_uri": "https://localhost:8080/"
        },
        "id": "GqpNxe5vPUal",
        "outputId": "9d7336c6-243b-41c1-b907-10100309868f"
      },
      "execution_count": null,
      "outputs": [
        {
          "output_type": "stream",
          "name": "stdout",
          "text": [
            "En que turno estudias? (mañana, tarde o noche): MAÑANA\n",
            "¡Buenos Días!\n"
          ]
        }
      ]
    },
    {
      "cell_type": "markdown",
      "source": [
        "8 - Escribe un programa que solicite un número entero a la persona usuaria y determine si es par o impar. Pista: Puedes usar el operador módulo (%).\n",
        "\n"
      ],
      "metadata": {
        "id": "cpCCr8-aQlNN"
      }
    },
    {
      "cell_type": "code",
      "source": [
        "numero = int(input(\"Ingresa un número entero: \"))\n",
        "\n",
        "if numero % 2 == 0:\n",
        "  print('Es un numero Par')\n",
        "else:\n",
        "  print('Es un numero Impar')"
      ],
      "metadata": {
        "colab": {
          "base_uri": "https://localhost:8080/"
        },
        "id": "XWe3tQGLQ84-",
        "outputId": "c75a85aa-7929-4b3d-f23a-cc12834ddfff"
      },
      "execution_count": null,
      "outputs": [
        {
          "output_type": "stream",
          "name": "stdout",
          "text": [
            "Ingresa un número entero: 2\n",
            "Es un numero Par\n"
          ]
        }
      ]
    },
    {
      "cell_type": "markdown",
      "source": [
        "9 - Escribe un programa que pida un número a la persona usuaria y le informe si es entero o decimal.\n",
        "\n"
      ],
      "metadata": {
        "id": "zaoV_jMEQlPw"
      }
    },
    {
      "cell_type": "code",
      "source": [
        "numero = float(input(\"Ingresa un número: \"))\n",
        "\n",
        "if numero.is_integer():\n",
        "  print('Es un numero entero')\n",
        "else:\n",
        "  print('Es un numero decimal')\n",
        "type(numero)\n"
      ],
      "metadata": {
        "colab": {
          "base_uri": "https://localhost:8080/"
        },
        "id": "mQ_jaoT8RqEV",
        "outputId": "a76f9954-6c15-492f-da31-585996dc9d5f"
      },
      "execution_count": null,
      "outputs": [
        {
          "output_type": "stream",
          "name": "stdout",
          "text": [
            "Ingresa un número: 2\n",
            "Es un numero entero\n"
          ]
        },
        {
          "output_type": "execute_result",
          "data": {
            "text/plain": [
              "float"
            ]
          },
          "metadata": {},
          "execution_count": 14
        }
      ]
    },
    {
      "cell_type": "markdown",
      "source": [
        "##**Momento de los proyectos**"
      ],
      "metadata": {
        "id": "UoMl27ajQlSI"
      }
    },
    {
      "cell_type": "markdown",
      "source": [
        "10 - Un programa debe ser escrito para leer dos números y luego preguntar a la persona usuaria qué operación desea realizar. El resultado de la operación debe incluir información sobre el número, si es par o impar, positivo o negativo, e entero o decimal.\n",
        "\n"
      ],
      "metadata": {
        "id": "M7h6Was5QlUj"
      }
    },
    {
      "cell_type": "code",
      "source": [
        "n1 = float(input(\"Ingresa el primer número: \"))\n",
        "n2 = float(input(\"Ingresa el segundo número:\"))\n",
        "\n",
        "ope = input(\"Que operacion deas realizar? (+,-,*,/): \")\n",
        "\n",
        "if ope == \"+\":\n",
        "  resultado = n1 + n2\n",
        "  print(f'El resultado de la suma es: {resultado}')\n",
        "elif ope == \"-\":\n",
        "  resultado = n1 - n2\n",
        "  print(f'El resultado de la resta es: {resultado}')\n",
        "elif ope == \"*\":\n",
        "  resultado = n1 * n2\n",
        "  print(f'El resultado de la multiplicacion es: {resultado}')\n",
        "elif ope == \"/\":\n",
        "  resultado = n1 / n2\n",
        "  print(f'El resultado de la division es: {resultado}')\n",
        "elif ope == \"**\":\n",
        "  resultado = n1 ** n2\n",
        "  print(f'El resultado de la potencia es: {resultado}')\n",
        "else:\n",
        "  print(\"Valor ingresado invalido!!!!\")\n",
        "  resultado = None\n",
        "\n",
        "if resultado != None:\n",
        "  if resultado % 2 == 0:\n",
        "      print(f'El numero {resultado} es par')\n",
        "  else:\n",
        "    print(f'El numero {resultado} es impar')\n",
        "  if resultado >= 0:\n",
        "    print(f'El numero {resultado} es postivo')\n",
        "  else:\n",
        "    print(f'El numero {resultado} es negativo')\n",
        "  if resultado.is_integer() :\n",
        "    print(f'El numero {resultado} es entero')\n",
        "  else:\n",
        "    print(f'El numero {resultado} es decimal')\n",
        "else :\n",
        "  print(\"Valor = None !!!!! \")\n",
        "\n",
        "\n",
        "\n"
      ],
      "metadata": {
        "colab": {
          "base_uri": "https://localhost:8080/"
        },
        "id": "fl7ShYvBTTJr",
        "outputId": "6fd8c53d-e0a1-48d1-9c6f-5f6ef290eec6"
      },
      "execution_count": null,
      "outputs": [
        {
          "output_type": "stream",
          "name": "stdout",
          "text": [
            "Ingresa el primer número: 12\n",
            "Ingresa el segundo número:21\n",
            "Que operacion deas realizar? (+,-,*,?,**)dsa\n",
            "Valor ingresado invalido!!!!\n",
            " Valor = None !!!!! \n"
          ]
        }
      ]
    },
    {
      "cell_type": "markdown",
      "source": [
        "11 - Escribe un programa que pida a la persona usuaria tres números que representan los lados de un triángulo. El programa debe informar si los valores pueden utilizarse para formar un triángulo y, en caso afirmativo, si es equilátero, isósceles o escaleno. Ten en cuenta algunas sugerencias:\n",
        "\n",
        "* Tres lados forman un triángulo cuando la suma de cualesquiera dos lados es mayor que el tercero;\n",
        "* Triángulo Equilátero: tres lados iguales;\n",
        "* Triángulo Isósceles: dos lados iguales;\n",
        "* Triángulo Escaleno: tres lados diferentes."
      ],
      "metadata": {
        "id": "pNq6YFS6QlXa"
      }
    },
    {
      "cell_type": "code",
      "source": [
        "lado1 = float(input(\"Ingresa la longitud del primer lado: \"))\n",
        "lado2 = float(input(\"Ingresa la longitud del segundo lado: \"))\n",
        "lado3 = float(input(\"Ingresa la longitud del tercer lado: \"))\n",
        "\n",
        "if lado1 + lado2 > lado3 and lado1 + lado3 > lado2 and lado2 + lado3 > lado1:\n",
        "  print(\"Los lados pueden formar un triángulo.\")\n",
        "  if lado1 == lado2 == lado3:\n",
        "    print(\"Es un triángulo Equilátero.\")\n",
        "  elif lado1 == lado2 or lado1 == lado3 or lado2 == lado3:\n",
        "    print(\"Es un triángulo Isósceles.\")\n",
        "  else:\n",
        "    print(\"Es un triángulo Escaleno.\")\n",
        "else:\n",
        "  print(\"Los lados no pueden formar un triángulo.\")"
      ],
      "metadata": {
        "id": "-s4xIdRGayJN",
        "colab": {
          "base_uri": "https://localhost:8080/"
        },
        "outputId": "7cadf966-4b26-4034-8069-befd2e058976"
      },
      "execution_count": null,
      "outputs": [
        {
          "output_type": "stream",
          "name": "stdout",
          "text": [
            "Ingresa la longitud del primer lado: 5\n",
            "Ingresa la longitud del segundo lado: 5\n",
            "Ingresa la longitud del tercer lado: 5\n",
            "Los lados pueden formar un triángulo.\n",
            "Es un triángulo Equilátero.\n"
          ]
        }
      ]
    },
    {
      "cell_type": "markdown",
      "source": [
        "12 - Un establecimiento está vendiendo combustibles con descuentos variables. Para el etanol, si la cantidad comprada es de hasta 15 litros, el descuento será del 2% por litro. En caso contrario, será del 4% por litro. Para el diésel, si la cantidad comprada es de hasta 15 litros, el descuento será del 3% por litro. En caso contrario, será del 5% por litro. El precio por litro de diésel es de R 2,00 y el precio por litro de etanol es de R 1,70. Escribe un programa que lea la cantidad de litros vendidos y el tipo de combustible (E para etanol y D para diésel) y calcule el valor a pagar por el cliente. Ten en cuenta algunas sugerencias:\n",
        "\n",
        "* El valor del descuento será el producto del precio por litro, la cantidad de litros y el valor del descuento.\n",
        "* El valor a pagar por un cliente será el resultado de la multiplicación del precio por litro por la cantidad de litros menos el valor del descuento resultante del cálculo."
      ],
      "metadata": {
        "id": "Asth5AnjQlZc"
      }
    },
    {
      "cell_type": "code",
      "source": [
        "Tipo_Conbustible = str(input(\"Tipo de combustible (Dicel = D y Etanol = E): \"))\n",
        "Tipo_Conbustible = Tipo_Conbustible.upper()\n",
        "litros = float(input(\"Ingresa la cantidad de litros: \"))\n",
        "Prec_Dielsel = 2.0\n",
        "Prec_Etanol = 1.7\n",
        "\n",
        "if Tipo_Conbustible == 'D':\n",
        "  if litros <= 15:\n",
        "    descuento = 0.03\n",
        "    valor_descuento = Prec_Dielsel * litros * descuento\n",
        "    print(f'El precio total a pagar es {(Prec_Dielsel * litros)-(valor_descuento)}')\n",
        "    print(f'El valor del descuento es {valor_descuento}')\n",
        "  else:\n",
        "    descuento = 0.05\n",
        "    valor_descuento = Prec_Dielsel * litros * descuento\n",
        "    print(f'El precio total a pagar es {(Prec_Dielsel * litros)-(valor_descuento)}')\n",
        "    print(f'El valor del descuento es {valor_descuento}')\n",
        "elif Tipo_Conbustible == 'E':\n",
        "  if litros <= 15:\n",
        "    descuento = 0.02\n",
        "    valor_descuento = Prec_Etanol * litros * descuento\n",
        "    print(f'El precio total a pagar es {(Prec_Etanol * litros)-(valor_descuento)}')\n",
        "    print(f'El valor del descuento es {valor_descuento}')\n",
        "  else:\n",
        "    descuento = 0.04\n",
        "    valor_descuento = Prec_Etanol * litros * descuento\n",
        "    print(f'El precio total a pagar es {(Prec_Etanol * litros)-(valor_descuento)}')\n",
        "    print(f'El valor del descuento es {valor_descuento}')"
      ],
      "metadata": {
        "id": "AnfKrFQ3hq8K",
        "colab": {
          "base_uri": "https://localhost:8080/"
        },
        "outputId": "21a40007-6e3c-4da3-b08c-13f942da8472"
      },
      "execution_count": 5,
      "outputs": [
        {
          "output_type": "stream",
          "name": "stdout",
          "text": [
            "Tipo de combustible (Dicel = D y Etanol = E): e\n",
            "Ingresa la cantidad de litros: 30\n",
            "El precio total a pagar es 48.96\n",
            "El valor del descuento es 2.04\n"
          ]
        }
      ]
    },
    {
      "cell_type": "markdown",
      "source": [
        "13 - En una empresa de venta de bienes raíces, debes crear un código que analice los datos de ventas anuales para ayudar a la dirección en la toma de decisiones. El código debe recopilar los datos de cantidad de ventas durante los años 2022 y 2023 y calcular la variación porcentual. A partir del valor de la variación, se deben proporcionar las siguientes sugerencias:\n",
        "\n",
        "* Para una variación superior al 20%: bonificación para el equipo de ventas.\n",
        "* Para una variación entre el 2% y el 20%: pequeña bonificación para el equipo de ventas.\n",
        "* Para una variación entre el 2% y el -10%: planificación de políticas de incentivo a las ventas.\n",
        "* Para bonificaciones inferiores al -10%: recorte de gastos.\n"
      ],
      "metadata": {
        "id": "ZblRMXTeQlcH"
      }
    },
    {
      "cell_type": "code",
      "source": [
        "venta_2022 = float(input(\"Ingresa la cantidad de ventas del año 2022: \"))\n",
        "venta_2023 = float(input(\"Ingresa la cantidad de ventas del año 2023: \"))\n",
        "\n",
        "var_porcent = ((venta_2023 - venta_2022) / venta_2022) * 100\n",
        "\n",
        "if var_porcent > 20:\n",
        "  print(\"Bonificación para el equipo de ventas.\")\n",
        "elif var_porcent >= 2 and var_porcent <= 20:\n",
        "  print(\"Pequeña bonificación para el equipo de ventas.\")\n",
        "elif var_porcent >= -10 and var_porcent < 2:\n",
        "  print(\"Planificación de políticas de incentivo a las ventas.\")\n",
        "else:\n",
        "  print(\"Recorte de gastos.\")\n",
        "\n",
        "print(f'La variación porcentual es {var_porcent}%')"
      ],
      "metadata": {
        "id": "j5KstqPXx_4Y"
      },
      "execution_count": null,
      "outputs": []
    }
  ]
}